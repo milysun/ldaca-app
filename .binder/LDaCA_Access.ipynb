{
 "cells": [
  {
   "cell_type": "markdown",
   "id": "b4f07600",
   "metadata": {},
   "source": [
    "# Welcome to LDaCA on BinderHub\n",
    "\n",
    "This BinderHub instance provides access to the **Language Data Commons of Australia (LDaCA)** Web Application."
   ]
  },
  {
   "cell_type": "markdown",
   "id": "1413f9dd",
   "metadata": {},
   "source": [
    "## Quick Access to LDaCA\n",
    "\n",
    "**Click the link below to open the LDaCA Web Application:**\n",
    "\n",
    "### 🌐 [Open LDaCA Application](../proxy/8080/)\n",
    "\n",
    "Or you can manually navigate to: `/proxy/8080/` in your browser."
   ]
  },
  {
   "cell_type": "markdown",
   "id": "31b2f779",
   "metadata": {},
   "source": [
    "## What is LDaCA?\n",
    "\n",
    "The Language Data Commons of Australia (LDaCA) provides tools and infrastructure for working with Australian language data and corpora. This includes:\n",
    "\n",
    "- **Data Discovery**: Find and explore language datasets\n",
    "- **Corpus Analysis**: Tools for analyzing linguistic data\n",
    "- **Data Management**: Organize and manage language resources\n",
    "- **API Access**: Programmatic access to data and tools"
   ]
  },
  {
   "cell_type": "markdown",
   "id": "83ba9ed8",
   "metadata": {},
   "source": [
    "## Additional Resources\n",
    "\n",
    "- [API Documentation](../proxy/8080/api/docs) - Backend API documentation\n",
    "- [Project Homepage](https://ldaca.edu.au/) - Learn more about LDaCA"
   ]
  },
  {
   "cell_type": "code",
   "execution_count": null,
   "id": "314614d9",
   "metadata": {},
   "outputs": [],
   "source": [
    "# You can also access LDaCA programmatically\n",
    "# Example: Check if LDaCA is running\n",
    "import requests\n",
    "import json\n",
    "\n",
    "try:\n",
    "    response = requests.get('http://localhost:8080/api/health', timeout=5)\n",
    "    if response.status_code == 200:\n",
    "        print(\"✅ LDaCA is running and accessible!\")\n",
    "        print(f\"Status: {response.json()}\")\n",
    "    else:\n",
    "        print(f\"⚠️ LDaCA responded with status code: {response.status_code}\")\n",
    "except requests.exceptions.RequestException as e:\n",
    "    print(f\"❌ Could not connect to LDaCA: {e}\")\n",
    "    print(\"LDaCA might still be starting up...\")"
   ]
  }
 ],
 "metadata": {
  "language_info": {
   "name": "python"
  }
 },
 "nbformat": 4,
 "nbformat_minor": 5
}
